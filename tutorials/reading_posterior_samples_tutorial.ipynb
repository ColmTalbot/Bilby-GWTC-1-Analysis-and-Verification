{
 "cells": [
  {
   "cell_type": "markdown",
   "metadata": {},
   "source": [
    "# Reading and plotting `bilby` posterior samples\n",
    "\n",
    "In this tutorial, we will read `bilby` posterior samples for one of the gravitational-wave events contained within this repository. We're going to show GW170719 as an example, but this tutorial will work for any of the events. We will demonstrate the reading of each kind of results file provided."
   ]
  },
  {
   "cell_type": "markdown",
   "metadata": {},
   "source": [
    "### Import required packages"
   ]
  },
  {
   "cell_type": "code",
   "execution_count": null,
   "metadata": {},
   "outputs": [],
   "source": [
    "import numpy as np\n",
    "import bilby\n",
    "import matplotlib.pyplot as plt\n",
    "%matplotlib inline"
   ]
  },
  {
   "cell_type": "markdown",
   "metadata": {},
   "source": [
    "### A useful plotting function\n",
    "We'll need this later."
   ]
  },
  {
   "cell_type": "code",
   "execution_count": null,
   "metadata": {},
   "outputs": [],
   "source": [
    "def plot_data(data, density, bins, histtype, alpha, xlabel, ylabel, title, label='posterior'):\n",
    "    fig = plt.figure()\n",
    "    plt.hist(data, density=density, bins=bins, histtype=histtype, alpha=alpha, label=label)\n",
    "    plt.xlabel(xlabel)\n",
    "    plt.ylabel(ylabel)\n",
    "    plt.title(title)\n",
    "    plt.legend()\n",
    "    plt.show()"
   ]
  },
  {
   "cell_type": "markdown",
   "metadata": {},
   "source": [
    "## Example 1: Reading `.dat`\n",
    "This kind of file contains only the posterior samples for the event.\n",
    "\n",
    "First, we need to read in the data file."
   ]
  },
  {
   "cell_type": "code",
   "execution_count": null,
   "metadata": {},
   "outputs": [],
   "source": [
    "data_file = \"../gwtc-1_analysis_results/downsampled_posterior_samples/GW170729_downsampled_posterior_samples.dat\"\n",
    "bilby_posterior_samples = np.genfromtxt(data_file, names=True)"
   ]
  },
  {
   "cell_type": "markdown",
   "metadata": {},
   "source": [
    "We can print the names of all the data fields contained in the file."
   ]
  },
  {
   "cell_type": "code",
   "execution_count": null,
   "metadata": {},
   "outputs": [],
   "source": [
    "bilby_posterior_samples.dtype"
   ]
  },
  {
   "cell_type": "markdown",
   "metadata": {},
   "source": [
    "Let's plot one of the bilary parameters. We'll choose the chirp mass as an example."
   ]
  },
  {
   "cell_type": "code",
   "execution_count": null,
   "metadata": {},
   "outputs": [],
   "source": [
    "data = bilby_posterior_samples['chirp_mass']"
   ]
  },
  {
   "cell_type": "markdown",
   "metadata": {},
   "source": [
    "The cell below defines how we want the plot to look."
   ]
  },
  {
   "cell_type": "code",
   "execution_count": null,
   "metadata": {},
   "outputs": [],
   "source": [
    "xlabel = \"chirp mass [M_sun]\"\n",
    "ylabel = \"posterior probability\"\n",
    "title = \"chirp mass for GW170729\"\n",
    "bins = 30\n",
    "density = True\n",
    "histtype = \"stepfilled\"\n",
    "alpha = 0.5"
   ]
  },
  {
   "cell_type": "markdown",
   "metadata": {},
   "source": [
    "Now we can plot the data using the function we defined earlier."
   ]
  },
  {
   "cell_type": "code",
   "execution_count": null,
   "metadata": {},
   "outputs": [],
   "source": [
    "plot_data(data, density, bins, histtype, alpha, xlabel, ylabel, title)"
   ]
  },
  {
   "cell_type": "markdown",
   "metadata": {},
   "source": [
    "## Example 2: Reading `.json`\n",
    "This kind of file contains lots of different data about the analysis. It includes information about the priors and the parameters that were sampled in, as well as the posterior samples.\n",
    "\n",
    "Again, the first step is to read in the data file. We can read it directly into a bilby result object."
   ]
  },
  {
   "cell_type": "code",
   "execution_count": null,
   "metadata": {},
   "outputs": [],
   "source": [
    "data_file = \"../gwtc-1_analysis_results/downsampled_bilby_result_files/GW170729_downsampled_result.json\"\n",
    "bilby_result = bilby.gw.result.CBCResult.from_json(data_file)"
   ]
  },
  {
   "cell_type": "markdown",
   "metadata": {},
   "source": [
    "We can extract the data that we want from the result object's saved posterior samples."
   ]
  },
  {
   "cell_type": "code",
   "execution_count": null,
   "metadata": {},
   "outputs": [],
   "source": [
    "data = bilby_result.posterior['chirp_mass']"
   ]
  },
  {
   "cell_type": "markdown",
   "metadata": {},
   "source": [
    "Again, we can plot this using the function we defined earlier."
   ]
  },
  {
   "cell_type": "code",
   "execution_count": null,
   "metadata": {},
   "outputs": [],
   "source": [
    "plot_data(data, density, bins, histtype, alpha, xlabel, ylabel, title, file_extension='json')"
   ]
  },
  {
   "cell_type": "markdown",
   "metadata": {},
   "source": [
    "As well as the posterior samples, the `result` object contains lots of useful information about the way the analysis was run, like the kinds of priors we used. Let's have a look at the prior we set on chirp mass. First, we recover the bilby `Prior` object for chirp mass."
   ]
  },
  {
   "cell_type": "code",
   "execution_count": null,
   "metadata": {},
   "outputs": [],
   "source": [
    "prior_object = bilby_result.priors['chirp_mass']"
   ]
  },
  {
   "cell_type": "markdown",
   "metadata": {},
   "source": [
    "Then we take some samples from it."
   ]
  },
  {
   "cell_type": "code",
   "execution_count": null,
   "metadata": {},
   "outputs": [],
   "source": [
    "prior_samples = prior_object.sample(1000)"
   ]
  },
  {
   "cell_type": "markdown",
   "metadata": {},
   "source": [
    "We can plot the posterior and the prior on the same plot, again using the function we defined earlier."
   ]
  },
  {
   "cell_type": "code",
   "execution_count": null,
   "metadata": {},
   "outputs": [],
   "source": [
    "data = [data, prior_samples]\n",
    "legend = ['posterior', 'prior']\n",
    "file_extension = 'json_plus_prior'\n",
    "plot_data(data, density, bins, histtype, alpha, xlabel, ylabel, title, file_extension)"
   ]
  },
  {
   "cell_type": "code",
   "execution_count": null,
   "metadata": {},
   "outputs": [],
   "source": []
  }
 ],
 "metadata": {
  "kernelspec": {
   "display_name": "Python 3",
   "language": "python",
   "name": "python3"
  }
 },
 "nbformat": 4,
 "nbformat_minor": 2
}
